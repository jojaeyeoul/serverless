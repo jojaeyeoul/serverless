{
  "cells": [
    {
      "cell_type": "markdown",
      "metadata": {
        "id": "view-in-github",
        "colab_type": "text"
      },
      "source": [
        "<a href=\"https://colab.research.google.com/github/jojaeyeoul/serverless/blob/main/512_exam.ipynb\" target=\"_parent\"><img src=\"https://colab.research.google.com/assets/colab-badge.svg\" alt=\"Open In Colab\"/></a>"
      ]
    },
    {
      "cell_type": "markdown",
      "metadata": {
        "id": "lCe5DK_PB8n5"
      },
      "source": [
        "# 통계적 학습의 원리와 이해 II 시험 (2025)\n",
        "\n",
        "1. 코딩/분석을 필요로 하는 문제의 경우 실행후 나온 결과값을 기반으로 Markdown Cell 에 결과값 해석 및 설명\n",
        "2. 일반 문제의 경우 답안용 Markdown cell 에 그대로 편집해서 작성.  (답) 이라고 된 부분."
      ]
    },
    {
      "cell_type": "markdown",
      "metadata": {
        "id": "fWX8Q1voB8n9"
      },
      "source": [
        "### 학번/이름 작성\n",
        "- **학번**:\n",
        "- **이름**:"
      ]
    },
    {
      "cell_type": "code",
      "source": [],
      "metadata": {
        "id": "RD8Cop6hj044"
      },
      "execution_count": null,
      "outputs": []
    },
    {
      "cell_type": "markdown",
      "metadata": {
        "id": "G6D232XhB8n9"
      },
      "source": [
        "## Q1. True/False Question: True/False와 그 이유도 함께 작성"
      ]
    },
    {
      "cell_type": "markdown",
      "metadata": {
        "id": "sHf2NxoCB8n9"
      },
      "source": [
        "1. 커널 밀도 추정(Kernel Density Estimation)에서 대역폭(bandwidth)이 증가하면 추정된 밀도 함수의 편향(bias)은 감소하고 분산(variance)은 증가한다.\n",
        "\n",
        "(답):\n",
        "\n",
        "2. 히스토그램 방법에서 구간(bin)의 수를 늘리면 항상 더 정확한 밀도 추정 결과를 얻을 수 있다.\n",
        "\n",
        "(답):\n",
        "\n",
        "3. 스플라인 회귀(spline regression)를 통해 나온 함수는 전체 구간에 걸쳐 하나의 연속적인 함수이다.\n",
        "\n",
        "(답):\n"
      ]
    },
    {
      "cell_type": "markdown",
      "metadata": {
        "id": "jWrbFav-B8n-"
      },
      "source": [
        "## Q2. True/False Question: True/False와 그 이유도 함께 작성\n",
        "\n",
        "1.  Bagging은 항상 개별 모델의 성능보다 더 나은 성능을 보장한다.\n",
        "\n",
        "(답):\n",
        "\n",
        "2. Random Forest는 개별 트리들을 모두 섞어놓았기에 모델의 해석이 불가능하다.\n",
        "\n",
        "(답):\n",
        "\n",
        "3. Random Forest에서 각 트리는 전체 Feature Set에서 무작위 부분집합만을 사용한다.\n",
        "\n",
        "(답):\n",
        "\n",
        "4. 차원축소 방법은 모두 PCA와 같은 비지도학습 형태로 이루어진다.\n",
        "\n",
        "(답):"
      ]
    },
    {
      "cell_type": "markdown",
      "metadata": {
        "id": "RpLcsHc-B8n-"
      },
      "source": [
        "## Q3. Function Estimation\n",
        "함수 근사에서 기저 확장(basis expansion) 접근법과 피드포워드 신경망(feedforward neural network)의 관계를 설명하시오. 두 방법의 유사점과 차이점을 서술하고 Overfitting 문제가 어떤 상황에서 생기는지 설명, 그리고 각 방법의 장단점을 비교 분석하시오."
      ]
    },
    {
      "cell_type": "markdown",
      "metadata": {
        "id": "LNDSb8r4B8n-"
      },
      "source": [
        "(답):"
      ]
    },
    {
      "cell_type": "markdown",
      "metadata": {
        "id": "4zX7Pp0wB8n_"
      },
      "source": [
        "## Q4. 다음 상황을 고려하시오:\n",
        "여러분은 온라인 쇼핑몰의 사기 거래를 탐지하는 시스템을 개발 중입니다. 이 시스템은 99% 정확도를 달성했지만, 실제 운영 시 성능이 좋지 않다는 평가를 받았습니다. 이런 상황이 발생할 수 있는 이유를 설명하고, 이를 해결하기 위한 방안을 제시하시오. (힌트: 클래스 불균형, 평가 지표, 비용 민감 학습 등을 고려하시오)\n"
      ]
    },
    {
      "cell_type": "markdown",
      "metadata": {
        "vscode": {
          "languageId": "plaintext"
        },
        "id": "vTpq92m7B8n_"
      },
      "source": [
        "(답):"
      ]
    },
    {
      "cell_type": "markdown",
      "metadata": {
        "id": "EqNpJkbDB8n_"
      },
      "source": [
        "# Q5. Computing\n",
        "\n",
        "**시나리오**\n",
        "\n",
        "A사는 여러개의 생산 Line과 설비를 보유하고 있는 제조업체이다. 10대 이상의 생산설비에서 동일한 제품을 생산하고 있기 때문에 설비가 고장이 날 시 생산 계획에 큰 차질이 발생한다. 설비 고장은 다양한 원인에 의해서 발생하는데 센서 데이터에 이상 패턴으로 Failure mode기 발생하고, 이로 인해 설비의 작동이 정지한다. A사는 설비가 고장나는 특정 패턴을 찾고, 이 패턴이 발생할 가능성이 보인다면 사전에 점검을 통해서 조치 후 설비 고장을 방지하고, 생산 스케줄을 문제없이 운영하고 싶은 상황이다.\n",
        "\n",
        "**Data**\n",
        "|Column|Description|\n",
        "|:---|:---|\n",
        "|UDI|Unique Index|\n",
        "|Product ID|생산하는 제품의 Sereial Number|\n",
        "|Type|품질 산포, L(50%) / M(30%) / H(20%)|\n",
        "|Air temperature [K]|공기온도|\n",
        "|Process temperature [K]|가공온도|\n",
        "|Rotational speed [rpm]|회전속도|\n",
        "|Torque [Nm]|토크|\n",
        "|Tool wear [min]|공구마모|\n",
        "|Machine failure|기계 고장|\n",
        "|TWF|툴 마모로 인한 알람, 200~240분 사이일시 고장발생|\n",
        "|HDF|공기온도와 프로세스온도 차이가 8.6k 미만이고, 회전속도가 1380rpm 미만일시 고장발생|\n",
        "|PWF|토크X회전속도 = 동력, 동력이 3500W 미만이거나 9000W 이상일 시 고장발생|\n",
        "|OSF|공구마모와 토크의 곱이 11,000minNM을 초과할 시 고장 발생 (L product variant의 경우)|\n",
        "|RNF|공정 모수에 관계없이 0.1%의 실패 확률로 고장발생|\n",
        "\n",
        "\n",
        "뒷부분 ``Machine Failure`` 고장발생일 경우 1이며 세부사항은 ``HDF`` 부터 ``RNF`` 에서 세부 고장발생여부 사유를 확인할 수 있다 (이상패턴 사유). 고장 발생 사유는 두개 이상일 수 있다.\n",
        "\n",
        "**Goal**\n",
        "\n",
        "- Failure mode 분석을 통한 오류 원인 탐지 및 개선 활동 전개\n",
        "- ``RNF``(Random Failure) 예측을 위한 설비고장 예측 모델링 수행\n",
        "\n",
        "기대효과: 자주 발생하는 오류 원인 탐지 및 개선"
      ]
    },
    {
      "cell_type": "code",
      "execution_count": null,
      "metadata": {
        "id": "yS78UEHlB8n_"
      },
      "outputs": [],
      "source": [
        "# import base libraries\n",
        "import pandas as pd\n",
        "import matplotlib.pyplot as plt\n",
        "import numpy as np\n",
        "import seaborn as sns"
      ]
    },
    {
      "cell_type": "code",
      "execution_count": null,
      "metadata": {
        "id": "p7M2sDqxB8oB",
        "outputId": "806798d7-d5be-47ee-f836-943a987408d0"
      },
      "outputs": [
        {
          "data": {
            "text/html": [
              "<div>\n",
              "<style scoped>\n",
              "    .dataframe tbody tr th:only-of-type {\n",
              "        vertical-align: middle;\n",
              "    }\n",
              "\n",
              "    .dataframe tbody tr th {\n",
              "        vertical-align: top;\n",
              "    }\n",
              "\n",
              "    .dataframe thead th {\n",
              "        text-align: right;\n",
              "    }\n",
              "</style>\n",
              "<table border=\"1\" class=\"dataframe\">\n",
              "  <thead>\n",
              "    <tr style=\"text-align: right;\">\n",
              "      <th></th>\n",
              "      <th>UDI</th>\n",
              "      <th>Product ID</th>\n",
              "      <th>Type</th>\n",
              "      <th>Air temperature [K]</th>\n",
              "      <th>Process temperature [K]</th>\n",
              "      <th>Rotational speed [rpm]</th>\n",
              "      <th>Torque [Nm]</th>\n",
              "      <th>Tool wear [min]</th>\n",
              "      <th>Machine failure</th>\n",
              "      <th>TWF</th>\n",
              "      <th>HDF</th>\n",
              "      <th>PWF</th>\n",
              "      <th>OSF</th>\n",
              "      <th>RNF</th>\n",
              "    </tr>\n",
              "  </thead>\n",
              "  <tbody>\n",
              "    <tr>\n",
              "      <th>0</th>\n",
              "      <td>1</td>\n",
              "      <td>M14860</td>\n",
              "      <td>M</td>\n",
              "      <td>298.1</td>\n",
              "      <td>308.6</td>\n",
              "      <td>1551</td>\n",
              "      <td>42.8</td>\n",
              "      <td>0</td>\n",
              "      <td>0</td>\n",
              "      <td>0</td>\n",
              "      <td>0</td>\n",
              "      <td>0</td>\n",
              "      <td>0</td>\n",
              "      <td>0</td>\n",
              "    </tr>\n",
              "    <tr>\n",
              "      <th>1</th>\n",
              "      <td>2</td>\n",
              "      <td>L47181</td>\n",
              "      <td>L</td>\n",
              "      <td>298.2</td>\n",
              "      <td>308.7</td>\n",
              "      <td>1408</td>\n",
              "      <td>46.3</td>\n",
              "      <td>3</td>\n",
              "      <td>0</td>\n",
              "      <td>0</td>\n",
              "      <td>0</td>\n",
              "      <td>0</td>\n",
              "      <td>0</td>\n",
              "      <td>0</td>\n",
              "    </tr>\n",
              "    <tr>\n",
              "      <th>2</th>\n",
              "      <td>3</td>\n",
              "      <td>L47182</td>\n",
              "      <td>L</td>\n",
              "      <td>298.1</td>\n",
              "      <td>308.5</td>\n",
              "      <td>1498</td>\n",
              "      <td>49.4</td>\n",
              "      <td>5</td>\n",
              "      <td>0</td>\n",
              "      <td>0</td>\n",
              "      <td>0</td>\n",
              "      <td>0</td>\n",
              "      <td>0</td>\n",
              "      <td>0</td>\n",
              "    </tr>\n",
              "    <tr>\n",
              "      <th>3</th>\n",
              "      <td>4</td>\n",
              "      <td>L47183</td>\n",
              "      <td>L</td>\n",
              "      <td>298.2</td>\n",
              "      <td>308.6</td>\n",
              "      <td>1433</td>\n",
              "      <td>39.5</td>\n",
              "      <td>7</td>\n",
              "      <td>0</td>\n",
              "      <td>0</td>\n",
              "      <td>0</td>\n",
              "      <td>0</td>\n",
              "      <td>0</td>\n",
              "      <td>0</td>\n",
              "    </tr>\n",
              "    <tr>\n",
              "      <th>4</th>\n",
              "      <td>5</td>\n",
              "      <td>L47184</td>\n",
              "      <td>L</td>\n",
              "      <td>298.2</td>\n",
              "      <td>308.7</td>\n",
              "      <td>1408</td>\n",
              "      <td>40.0</td>\n",
              "      <td>9</td>\n",
              "      <td>0</td>\n",
              "      <td>0</td>\n",
              "      <td>0</td>\n",
              "      <td>0</td>\n",
              "      <td>0</td>\n",
              "      <td>0</td>\n",
              "    </tr>\n",
              "    <tr>\n",
              "      <th>...</th>\n",
              "      <td>...</td>\n",
              "      <td>...</td>\n",
              "      <td>...</td>\n",
              "      <td>...</td>\n",
              "      <td>...</td>\n",
              "      <td>...</td>\n",
              "      <td>...</td>\n",
              "      <td>...</td>\n",
              "      <td>...</td>\n",
              "      <td>...</td>\n",
              "      <td>...</td>\n",
              "      <td>...</td>\n",
              "      <td>...</td>\n",
              "      <td>...</td>\n",
              "    </tr>\n",
              "    <tr>\n",
              "      <th>9995</th>\n",
              "      <td>9996</td>\n",
              "      <td>M24855</td>\n",
              "      <td>M</td>\n",
              "      <td>298.8</td>\n",
              "      <td>308.4</td>\n",
              "      <td>1604</td>\n",
              "      <td>29.5</td>\n",
              "      <td>14</td>\n",
              "      <td>0</td>\n",
              "      <td>0</td>\n",
              "      <td>0</td>\n",
              "      <td>0</td>\n",
              "      <td>0</td>\n",
              "      <td>0</td>\n",
              "    </tr>\n",
              "    <tr>\n",
              "      <th>9996</th>\n",
              "      <td>9997</td>\n",
              "      <td>H39410</td>\n",
              "      <td>H</td>\n",
              "      <td>298.9</td>\n",
              "      <td>308.4</td>\n",
              "      <td>1632</td>\n",
              "      <td>31.8</td>\n",
              "      <td>17</td>\n",
              "      <td>0</td>\n",
              "      <td>0</td>\n",
              "      <td>0</td>\n",
              "      <td>0</td>\n",
              "      <td>0</td>\n",
              "      <td>0</td>\n",
              "    </tr>\n",
              "    <tr>\n",
              "      <th>9997</th>\n",
              "      <td>9998</td>\n",
              "      <td>M24857</td>\n",
              "      <td>M</td>\n",
              "      <td>299.0</td>\n",
              "      <td>308.6</td>\n",
              "      <td>1645</td>\n",
              "      <td>33.4</td>\n",
              "      <td>22</td>\n",
              "      <td>0</td>\n",
              "      <td>0</td>\n",
              "      <td>0</td>\n",
              "      <td>0</td>\n",
              "      <td>0</td>\n",
              "      <td>0</td>\n",
              "    </tr>\n",
              "    <tr>\n",
              "      <th>9998</th>\n",
              "      <td>9999</td>\n",
              "      <td>H39412</td>\n",
              "      <td>H</td>\n",
              "      <td>299.0</td>\n",
              "      <td>308.7</td>\n",
              "      <td>1408</td>\n",
              "      <td>48.5</td>\n",
              "      <td>25</td>\n",
              "      <td>0</td>\n",
              "      <td>0</td>\n",
              "      <td>0</td>\n",
              "      <td>0</td>\n",
              "      <td>0</td>\n",
              "      <td>0</td>\n",
              "    </tr>\n",
              "    <tr>\n",
              "      <th>9999</th>\n",
              "      <td>10000</td>\n",
              "      <td>M24859</td>\n",
              "      <td>M</td>\n",
              "      <td>299.0</td>\n",
              "      <td>308.7</td>\n",
              "      <td>1500</td>\n",
              "      <td>40.2</td>\n",
              "      <td>30</td>\n",
              "      <td>0</td>\n",
              "      <td>0</td>\n",
              "      <td>0</td>\n",
              "      <td>0</td>\n",
              "      <td>0</td>\n",
              "      <td>0</td>\n",
              "    </tr>\n",
              "  </tbody>\n",
              "</table>\n",
              "<p>10000 rows × 14 columns</p>\n",
              "</div>"
            ],
            "text/plain": [
              "        UDI Product ID Type  Air temperature [K]  Process temperature [K]  \\\n",
              "0         1     M14860    M                298.1                    308.6   \n",
              "1         2     L47181    L                298.2                    308.7   \n",
              "2         3     L47182    L                298.1                    308.5   \n",
              "3         4     L47183    L                298.2                    308.6   \n",
              "4         5     L47184    L                298.2                    308.7   \n",
              "...     ...        ...  ...                  ...                      ...   \n",
              "9995   9996     M24855    M                298.8                    308.4   \n",
              "9996   9997     H39410    H                298.9                    308.4   \n",
              "9997   9998     M24857    M                299.0                    308.6   \n",
              "9998   9999     H39412    H                299.0                    308.7   \n",
              "9999  10000     M24859    M                299.0                    308.7   \n",
              "\n",
              "      Rotational speed [rpm]  Torque [Nm]  Tool wear [min]  Machine failure  \\\n",
              "0                       1551         42.8                0                0   \n",
              "1                       1408         46.3                3                0   \n",
              "2                       1498         49.4                5                0   \n",
              "3                       1433         39.5                7                0   \n",
              "4                       1408         40.0                9                0   \n",
              "...                      ...          ...              ...              ...   \n",
              "9995                    1604         29.5               14                0   \n",
              "9996                    1632         31.8               17                0   \n",
              "9997                    1645         33.4               22                0   \n",
              "9998                    1408         48.5               25                0   \n",
              "9999                    1500         40.2               30                0   \n",
              "\n",
              "      TWF  HDF  PWF  OSF  RNF  \n",
              "0       0    0    0    0    0  \n",
              "1       0    0    0    0    0  \n",
              "2       0    0    0    0    0  \n",
              "3       0    0    0    0    0  \n",
              "4       0    0    0    0    0  \n",
              "...   ...  ...  ...  ...  ...  \n",
              "9995    0    0    0    0    0  \n",
              "9996    0    0    0    0    0  \n",
              "9997    0    0    0    0    0  \n",
              "9998    0    0    0    0    0  \n",
              "9999    0    0    0    0    0  \n",
              "\n",
              "[10000 rows x 14 columns]"
            ]
          },
          "execution_count": 2,
          "metadata": {},
          "output_type": "execute_result"
        }
      ],
      "source": [
        "# Load the data\n",
        "df = pd.read_csv(\"exam_machine_failure.csv\")\n",
        "df"
      ]
    },
    {
      "cell_type": "code",
      "execution_count": null,
      "metadata": {
        "id": "anFLmE6mB8oB",
        "outputId": "7ad38a6c-3a25-4e2c-d913-104df81b5f56"
      },
      "outputs": [
        {
          "data": {
            "text/html": [
              "<div>\n",
              "<style scoped>\n",
              "    .dataframe tbody tr th:only-of-type {\n",
              "        vertical-align: middle;\n",
              "    }\n",
              "\n",
              "    .dataframe tbody tr th {\n",
              "        vertical-align: top;\n",
              "    }\n",
              "\n",
              "    .dataframe thead th {\n",
              "        text-align: right;\n",
              "    }\n",
              "</style>\n",
              "<table border=\"1\" class=\"dataframe\">\n",
              "  <thead>\n",
              "    <tr style=\"text-align: right;\">\n",
              "      <th></th>\n",
              "      <th>UDI</th>\n",
              "      <th>Product ID</th>\n",
              "      <th>Type</th>\n",
              "      <th>Air temperature [K]</th>\n",
              "      <th>Process temperature [K]</th>\n",
              "      <th>Rotational speed [rpm]</th>\n",
              "      <th>Torque [Nm]</th>\n",
              "      <th>Tool wear [min]</th>\n",
              "      <th>Machine failure</th>\n",
              "      <th>TWF</th>\n",
              "      <th>HDF</th>\n",
              "      <th>PWF</th>\n",
              "      <th>OSF</th>\n",
              "      <th>RNF</th>\n",
              "    </tr>\n",
              "  </thead>\n",
              "  <tbody>\n",
              "    <tr>\n",
              "      <th>50</th>\n",
              "      <td>51</td>\n",
              "      <td>L47230</td>\n",
              "      <td>L</td>\n",
              "      <td>298.9</td>\n",
              "      <td>309.1</td>\n",
              "      <td>2861</td>\n",
              "      <td>4.6</td>\n",
              "      <td>143</td>\n",
              "      <td>1</td>\n",
              "      <td>0</td>\n",
              "      <td>0</td>\n",
              "      <td>1</td>\n",
              "      <td>0</td>\n",
              "      <td>0</td>\n",
              "    </tr>\n",
              "    <tr>\n",
              "      <th>69</th>\n",
              "      <td>70</td>\n",
              "      <td>L47249</td>\n",
              "      <td>L</td>\n",
              "      <td>298.9</td>\n",
              "      <td>309.0</td>\n",
              "      <td>1410</td>\n",
              "      <td>65.7</td>\n",
              "      <td>191</td>\n",
              "      <td>1</td>\n",
              "      <td>0</td>\n",
              "      <td>0</td>\n",
              "      <td>1</td>\n",
              "      <td>1</td>\n",
              "      <td>0</td>\n",
              "    </tr>\n",
              "    <tr>\n",
              "      <th>77</th>\n",
              "      <td>78</td>\n",
              "      <td>L47257</td>\n",
              "      <td>L</td>\n",
              "      <td>298.8</td>\n",
              "      <td>308.9</td>\n",
              "      <td>1455</td>\n",
              "      <td>41.3</td>\n",
              "      <td>208</td>\n",
              "      <td>1</td>\n",
              "      <td>1</td>\n",
              "      <td>0</td>\n",
              "      <td>0</td>\n",
              "      <td>0</td>\n",
              "      <td>0</td>\n",
              "    </tr>\n",
              "    <tr>\n",
              "      <th>160</th>\n",
              "      <td>161</td>\n",
              "      <td>L47340</td>\n",
              "      <td>L</td>\n",
              "      <td>298.4</td>\n",
              "      <td>308.2</td>\n",
              "      <td>1282</td>\n",
              "      <td>60.7</td>\n",
              "      <td>216</td>\n",
              "      <td>1</td>\n",
              "      <td>0</td>\n",
              "      <td>0</td>\n",
              "      <td>0</td>\n",
              "      <td>1</td>\n",
              "      <td>0</td>\n",
              "    </tr>\n",
              "    <tr>\n",
              "      <th>161</th>\n",
              "      <td>162</td>\n",
              "      <td>L47341</td>\n",
              "      <td>L</td>\n",
              "      <td>298.3</td>\n",
              "      <td>308.1</td>\n",
              "      <td>1412</td>\n",
              "      <td>52.3</td>\n",
              "      <td>218</td>\n",
              "      <td>1</td>\n",
              "      <td>0</td>\n",
              "      <td>0</td>\n",
              "      <td>0</td>\n",
              "      <td>1</td>\n",
              "      <td>0</td>\n",
              "    </tr>\n",
              "  </tbody>\n",
              "</table>\n",
              "</div>"
            ],
            "text/plain": [
              "     UDI Product ID Type  Air temperature [K]  Process temperature [K]  \\\n",
              "50    51     L47230    L                298.9                    309.1   \n",
              "69    70     L47249    L                298.9                    309.0   \n",
              "77    78     L47257    L                298.8                    308.9   \n",
              "160  161     L47340    L                298.4                    308.2   \n",
              "161  162     L47341    L                298.3                    308.1   \n",
              "\n",
              "     Rotational speed [rpm]  Torque [Nm]  Tool wear [min]  Machine failure  \\\n",
              "50                     2861          4.6              143                1   \n",
              "69                     1410         65.7              191                1   \n",
              "77                     1455         41.3              208                1   \n",
              "160                    1282         60.7              216                1   \n",
              "161                    1412         52.3              218                1   \n",
              "\n",
              "     TWF  HDF  PWF  OSF  RNF  \n",
              "50     0    0    1    0    0  \n",
              "69     0    0    1    1    0  \n",
              "77     1    0    0    0    0  \n",
              "160    0    0    0    1    0  \n",
              "161    0    0    0    1    0  "
            ]
          },
          "execution_count": 3,
          "metadata": {},
          "output_type": "execute_result"
        }
      ],
      "source": [
        "# Machine failure 일 때 failure mode 확인\n",
        "df[df['Machine failure']==1].head()"
      ]
    },
    {
      "cell_type": "code",
      "execution_count": null,
      "metadata": {
        "id": "HOKD6EcgB8oB"
      },
      "outputs": [],
      "source": [
        "# Failure mode에 대한 정보\n",
        "# UDI (key)를 통해 Join 가능\n",
        "df_sensor = df.drop(['TWF', 'HDF', 'PWF', 'OSF', 'RNF'], axis=1)\n",
        "df_mode = df[['UDI', 'TWF', 'HDF', 'PWF', 'OSF', 'RNF']]"
      ]
    },
    {
      "cell_type": "code",
      "execution_count": null,
      "metadata": {
        "id": "D_9lw8cTB8oC",
        "outputId": "567b8dd6-ba15-4fe2-bcd4-0b054d8d7443"
      },
      "outputs": [
        {
          "data": {
            "text/html": [
              "<div>\n",
              "<style scoped>\n",
              "    .dataframe tbody tr th:only-of-type {\n",
              "        vertical-align: middle;\n",
              "    }\n",
              "\n",
              "    .dataframe tbody tr th {\n",
              "        vertical-align: top;\n",
              "    }\n",
              "\n",
              "    .dataframe thead th {\n",
              "        text-align: right;\n",
              "    }\n",
              "</style>\n",
              "<table border=\"1\" class=\"dataframe\">\n",
              "  <thead>\n",
              "    <tr style=\"text-align: right;\">\n",
              "      <th></th>\n",
              "      <th>UDI</th>\n",
              "      <th>TWF</th>\n",
              "      <th>HDF</th>\n",
              "      <th>PWF</th>\n",
              "      <th>OSF</th>\n",
              "      <th>RNF</th>\n",
              "    </tr>\n",
              "  </thead>\n",
              "  <tbody>\n",
              "    <tr>\n",
              "      <th>count</th>\n",
              "      <td>10000</td>\n",
              "      <td>10000</td>\n",
              "      <td>10000</td>\n",
              "      <td>10000</td>\n",
              "      <td>10000</td>\n",
              "      <td>10000</td>\n",
              "    </tr>\n",
              "    <tr>\n",
              "      <th>unique</th>\n",
              "      <td>10000</td>\n",
              "      <td>2</td>\n",
              "      <td>2</td>\n",
              "      <td>2</td>\n",
              "      <td>2</td>\n",
              "      <td>2</td>\n",
              "    </tr>\n",
              "    <tr>\n",
              "      <th>top</th>\n",
              "      <td>1</td>\n",
              "      <td>0</td>\n",
              "      <td>0</td>\n",
              "      <td>0</td>\n",
              "      <td>0</td>\n",
              "      <td>0</td>\n",
              "    </tr>\n",
              "    <tr>\n",
              "      <th>freq</th>\n",
              "      <td>1</td>\n",
              "      <td>9954</td>\n",
              "      <td>9885</td>\n",
              "      <td>9905</td>\n",
              "      <td>9902</td>\n",
              "      <td>9981</td>\n",
              "    </tr>\n",
              "  </tbody>\n",
              "</table>\n",
              "</div>"
            ],
            "text/plain": [
              "          UDI    TWF    HDF    PWF    OSF    RNF\n",
              "count   10000  10000  10000  10000  10000  10000\n",
              "unique  10000      2      2      2      2      2\n",
              "top         1      0      0      0      0      0\n",
              "freq        1   9954   9885   9905   9902   9981"
            ]
          },
          "execution_count": 5,
          "metadata": {},
          "output_type": "execute_result"
        }
      ],
      "source": [
        "df_mode.astype('category').describe()"
      ]
    },
    {
      "cell_type": "markdown",
      "metadata": {
        "id": "pi0I_OGcB8oC"
      },
      "source": [
        "대부분 0인 것을 확인 할 수 있다."
      ]
    },
    {
      "cell_type": "code",
      "execution_count": null,
      "metadata": {
        "id": "Gd6U680DB8oC",
        "outputId": "5e4949f1-a3e6-4ece-b21b-a6ded52597ba"
      },
      "outputs": [
        {
          "name": "stdout",
          "output_type": "stream",
          "text": [
            "0.0339\n",
            "0.0019\n"
          ]
        }
      ],
      "source": [
        "print((df['Machine failure']==1).mean())\n",
        "print((df['RNF']==1).mean())"
      ]
    },
    {
      "cell_type": "code",
      "execution_count": null,
      "metadata": {
        "id": "g3zbRs4WB8oC"
      },
      "outputs": [],
      "source": [
        "from sklearn.model_selection import train_test_split\n",
        "from sklearn.preprocessing import StandardScaler\n",
        "\n",
        "input_names = ['Type','Air temperature [K]',\n",
        "       'Process temperature [K]', 'Rotational speed [rpm]', 'Torque [Nm]',\n",
        "       'Tool wear [min]']\n",
        "target_name = ['RNF'] # 원인파악이 되지 않은 랜덤 고장\n",
        "\n",
        "X = df[input_names]\n",
        "y = df[target_name].values.ravel()\n",
        "\n",
        "\n",
        "# 데이터 분할\n",
        "X_train, X_test, y_train, y_test = train_test_split(X, y, test_size=0.2, random_state=20240811, stratify=y)"
      ]
    },
    {
      "cell_type": "markdown",
      "metadata": {
        "id": "F9EVzIVMB8oC"
      },
      "source": [
        "## Q5-1. Classification\n",
        "**할 일**\n",
        "- Random Forest, XGBoost, train 데이터를 통해 학습하시오. (튜닝 포함)\n",
        "- 모델 학습 전 변수별 Scaling (유의사항: ``Type``은 Categorical 변수)\n",
        "\n",
        "**Report**\n",
        "- Test Error rate\n",
        "- AUC-ROC, AUC-PR scores\n",
        "\n",
        "**참고사항**\n",
        "- (Optional, Extra point) LightGBM, CatBoost 을 활용한 학습: Categorical 변수 처리에 유의.\n",
        "- 각 모델별 jupyter notebook cell 을 따로 만드시오. (Random Forest, XGBoost, LightGBM, CatBoost). 각 모델별로 채점함"
      ]
    },
    {
      "cell_type": "code",
      "execution_count": null,
      "metadata": {
        "id": "9If930wrB8oC"
      },
      "outputs": [],
      "source": [
        "# 답"
      ]
    },
    {
      "cell_type": "markdown",
      "metadata": {
        "id": "D3WR8QLdB8oD"
      },
      "source": [
        "## Q5-2. Anomaly Detection\n",
        "\n",
        "**할 일**\n",
        "- target 변수를 활용하지 않은 채, ``X_train``을 통해 LOF, Isolation Forest를 통해 이상치 탐지 모델을 학습하시오. (튜닝 포함)\n",
        "- 모델 학습 전 변수별 Scaling (유의사항: ``Type``은 Categorical 변수)\n",
        "\n",
        "**Report**\n",
        "- AUC-ROC, AUC-PR scores\n",
        "\n",
        "**참고사항**\n",
        "- 각 모델별 jupyter notebook cell 을 따로 만드시오. (LOF, Isolation Forest). 각 모델별로 채점함\n"
      ]
    },
    {
      "cell_type": "code",
      "execution_count": null,
      "metadata": {
        "id": "xJKi-JL3B8oD"
      },
      "outputs": [],
      "source": [
        "# 답"
      ]
    }
  ],
  "metadata": {
    "kernelspec": {
      "display_name": "py310",
      "language": "python",
      "name": "python3"
    },
    "language_info": {
      "codemirror_mode": {
        "name": "ipython",
        "version": 3
      },
      "file_extension": ".py",
      "mimetype": "text/x-python",
      "name": "python",
      "nbconvert_exporter": "python",
      "pygments_lexer": "ipython3",
      "version": "3.10.14"
    },
    "colab": {
      "provenance": [],
      "include_colab_link": true
    }
  },
  "nbformat": 4,
  "nbformat_minor": 0
}